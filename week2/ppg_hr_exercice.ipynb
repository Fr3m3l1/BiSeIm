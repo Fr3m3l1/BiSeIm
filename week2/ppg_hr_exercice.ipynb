{
 "cells": [
  {
   "cell_type": "markdown",
   "metadata": {
    "hideCode": false,
    "hidePrompt": false
   },
   "source": [
    "# PPG Heart Rate Exercice\n",
    "\n",
    "Do this exercice as first exercice.\n",
    "\n",
    "## PPG Signal Processing Exercise Walkthrough\n",
    "\n",
    "This guide will walk you through the steps necessary to analyze PPG (Photoplethysmography) signals using `neurokit2` and `pandas`. Follow the steps carefully, defining the appropriate variables and applying the recommended functions.\n",
    "\n",
    "---\n",
    "\n",
    "### (0. Install the necessary libraries)\n",
    "\n",
    "Install the necessary libraries if you haven't done so yet.\n",
    "\n",
    "```python\n",
    "! pip install neurokit2 plotly joblib\n",
    "```\n",
    "\n",
    "---\n",
    "\n",
    "### 1. Load the Necessary Libraries and Data\n",
    "\n",
    "Use the loading code as provided. Adjust variable `path` to the correct path \n",
    "of the data if you want to use your own data.\n",
    "\n",
    "---\n",
    "\n",
    "### 2. Visualize the Raw PPG Data\n",
    "- Plot all the raw signals available in the dataset.\n",
    "- Use an appropriate plotting function to visualize the data.\n",
    "- Add a title to the plot to indicate that this is the raw data.\n",
    "\n",
    "#### Hints:\n",
    "- Use `nk.signal_plot()` to plot all signals in the dataset.\n",
    "- Use `nk.signal_plot?` in a cell to get the documentation of the function.\n",
    "- Set an appropriate title using `plt.title()`.\n",
    "\n",
    "---\n",
    "\n",
    "### 3. Select and Plot a Single PPG Channel\n",
    "- Choose one channel from the dataset to analyze further.\n",
    "- Extract the raw values of this selected channel.\n",
    "- Plot the raw signal from this channel using the correct sampling rate.\n",
    "\n",
    "#### Hints:\n",
    "- Store the channel name in a variable (e.g., `ppg_signal = 'PPG Red'`).\n",
    "- Extract the corresponding column as a NumPy array.\n",
    "- Use `nk.signal_plot()` with the correct `sampling_rate`.\n",
    "\n",
    "----\n",
    "\n",
    "### 4. Clean the PPG Signal\n",
    "- Apply a cleaning function to remove noise from the PPG signal.\n",
    "- Plot the cleaned signal for comparison.\n",
    "\n",
    "#### Hints:\n",
    "- Use `nk.ppg_clean()` with the appropriate sampling rate.\n",
    "- Again, use `nk.ppg_clean?` in a cell to get the documentation of the function.\n",
    "- Store the cleaned signal in a new variable.\n",
    "- Plot the cleaned signal using `nk.signal_plot()`.\n",
    "\n",
    "---\n",
    "\n",
    "### 5. Detect PPG Peaks\n",
    "- Identify the peaks in the cleaned PPG signal, which correspond to heartbeats.\n",
    "- Store the detected peaks in a structured format.\n",
    "- Plot the detected peaks on top of the cleaned signal.\n",
    "\n",
    "#### Hints:\n",
    "- Use `nk.ppg_peaks()` on the cleaned signal.\n",
    "- Again, use `nk.ppg_peaks?` in a cell to get the documentation of the function.\n",
    "- Use the argument `method='bishop'` for proper peak detection.\n",
    "- Store the detected peaks in a dictionary or DataFrame.\n",
    "- `nk.ppg_peaks()` has a `show` parameter. Use it to plot the peaks on top of the signal.\n",
    "\n",
    "---\n",
    "\n",
    "### 6. Compute Heart Rate from PPG\n",
    "- Extract heart rate values from the detected peaks.\n",
    "- Compute the instantaneous heart rate using the correct function.\n",
    "- Plot the computed heart rate over time.\n",
    "\n",
    "#### Hints:\n",
    "- Use `nk.ecg_rate()` with the detected peaks.\n",
    "- Store the heart rate values in a new variable.\n",
    "\n",
    "---\n",
    "\n",
    "### 7. Analyze Heart Rate Data\n",
    "- Calculate statistics of the heart rate values (mean, std, min, max)\n",
    "- Please note down the mean heart rate. We will compare it in the next lecture\n",
    "\n",
    "\n",
    "\n",
    "\n",
    "\n",
    "\n"
   ]
  },
  {
   "cell_type": "code",
   "execution_count": null,
   "metadata": {
    "hideCode": false,
    "hidePrompt": false
   },
   "outputs": [],
   "source": [
    "#! pip install neurokit2 plotly joblib"
   ]
  },
  {
   "cell_type": "code",
   "execution_count": null,
   "metadata": {},
   "outputs": [],
   "source": [
    "import helpers as hp\n",
    "import pandas as pd\n",
    "import neurokit2 as nk\n",
    "import matplotlib.pyplot as plt\n",
    "\n",
    "# Set global figure size\n",
    "plt.rcParams[\"figure.figsize\"] = (12, 4)\n",
    "\n",
    "srate = 25 # EmotiBit PPG sampling rate\n",
    "\n",
    "path = 'example_data'\n",
    "ppg_data = hp.load_emotibit_ppg(path)\n",
    "ppg_data.head()\n"
   ]
  },
  {
   "cell_type": "code",
   "execution_count": null,
   "metadata": {},
   "outputs": [],
   "source": [
    "# your code here"
   ]
  },
  {
   "cell_type": "code",
   "execution_count": null,
   "metadata": {},
   "outputs": [],
   "source": []
  },
  {
   "cell_type": "code",
   "execution_count": null,
   "metadata": {},
   "outputs": [],
   "source": []
  },
  {
   "cell_type": "markdown",
   "metadata": {},
   "source": [
    "## Solution in one go\n",
    "\n",
    "NeuroKit2 has a built-in function to perform all steps in one go. You find it below. Please feel free to use it as a reference."
   ]
  },
  {
   "cell_type": "code",
   "execution_count": null,
   "metadata": {},
   "outputs": [],
   "source": [
    "# Extract the red PPG data\n",
    "ppg_red = ppg_data['PPG Green']\n",
    "\n",
    "# Process the PPG signal using NeuroKit2\n",
    "signals, info = nk.ppg_process(ppg_red, sampling_rate=srate, method_peaks='bishop')\n",
    "\n",
    "# Plot the processed PPG signal\n",
    "plt.figure(figsize=(18, 8))\n",
    "fig = nk.ppg_plot(signals, info,static=False)\n",
    "\n",
    "# Modify the figure size\n",
    "fig.update_layout(\n",
    "    width=1000,  # Set width in pixels\n",
    "    height=600,  # Set height in pixels\n",
    "    title=\"Customized PPG Plot\"\n",
    ")\n",
    "\n",
    "fig.show()"
   ]
  },
  {
   "cell_type": "code",
   "execution_count": null,
   "metadata": {},
   "outputs": [],
   "source": []
  }
 ],
 "metadata": {
  "hide_code_all_hidden": false,
  "kernelspec": {
   "display_name": "py311",
   "language": "python",
   "name": "python3"
  },
  "language_info": {
   "codemirror_mode": {
    "name": "ipython",
    "version": 3
   },
   "file_extension": ".py",
   "mimetype": "text/x-python",
   "name": "python",
   "nbconvert_exporter": "python",
   "pygments_lexer": "ipython3",
   "version": "3.11.8"
  }
 },
 "nbformat": 4,
 "nbformat_minor": 2
}
