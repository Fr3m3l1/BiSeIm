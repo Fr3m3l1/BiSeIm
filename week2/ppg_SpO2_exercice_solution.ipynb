{
 "cells": [
  {
   "cell_type": "markdown",
   "metadata": {
    "hideCode": false,
    "hidePrompt": false
   },
   "source": [
    "# PPG Heart Rate Exercise\n",
    "\n",
    "Do this exercise after the HR exercise where you get familiar with neurokit2 methods.\n",
    "\n",
    "# PPG SpO2 Analysis Exercise Walkthrough\n",
    "\n",
    "This guide walks you through the process of analyzing PPG signals to estimate blood oxygen saturation (SpO2). Follow the steps carefully, defining the required variables and applying the suggested functions.\n",
    "\n",
    "---\n",
    "\n",
    "### 1. Load the Necessary Libraries and Data\n",
    "\n",
    "Use the loading code as provided. Adjust variable `path` to the correct path \n",
    "of the data if you want to use your own data.\n",
    "\n",
    "---\n",
    "\n",
    "### 2. Visualize the Raw PPG Data\n",
    "- Plot the raw PPG signals (only infrared and red channels).\n",
    "\n",
    "#### Hints:\n",
    "- Use `nk.signal_plot()` to plot the `PPG Infrared` and `PPG Red` signals.\n",
    "\n",
    "---\n",
    "\n",
    "### 3. Extract and Clean the PPG Signals\n",
    "- Extract the raw values of the red and infrared PPG signals.\n",
    "- Apply a cleaning function to remove noise and center the signals around.\n",
    "- Plot the cleaned signals for comparison.\n",
    "\n",
    "#### Hints:\n",
    "- Extract the relevant columns as NumPy arrays.\n",
    "- Use `nk.ppg_clean()` to clean both signals.\n",
    "- Store the cleaned signals in variables.\n",
    "- Use `nk.signal_plot()` with appropriate labels.\n",
    "\n",
    "---\n",
    "\n",
    "### 4. Compute the AC and DC Components\n",
    "- Compute the AC (alternating) and DC (direct) components for both the red and infrared signals.\n",
    "- The AC component can be estimated using the standard deviation.\n",
    "- The DC component can be estimated using the mean.\n",
    "\n",
    "#### Hints:\n",
    "- Use `np.std()` for AC calculation on the **cleaned** and centered data.\n",
    "- Use `np.mean()` for DC calculation on the original **raw** data.\n",
    "- Store results in separate variables.\n",
    "\n",
    "---\n",
    "\n",
    "### 5. Calculate the Ration R\n",
    "- Compute the ratio of the red and infrared signals using the AC and DC components.\n",
    "- Apply a known formula to estimate SpO2.\n",
    "\n",
    "$$R = \\left(\\frac{AC_{660}}{DC_{660}}\\right) / \\left(\\frac{AC_{940}}{DC_{940}}\\right)$$\n",
    "\n",
    "#### Hints:\n",
    "- Compute the ratio using `(AC_red / DC_red) / (AC_ir / DC_ir)`.\n",
    "  \n",
    "\n",
    "---\n",
    "\n",
    "### 5. Calculate % SpO2\n",
    "- Apply the following empirical formulas to estimate SpO2 as a function of R.\n",
    "  1. Formula 1: $SpO2 = 110 - 25*R$\n",
    "  2. Formula 2: $SpO2 = 100 - 23.3*(R-0.4)$\n",
    "- Note: These formulas are approximations to the empirical relation shown in the lecture\n",
    "- Remember the values SpO2 values for the next lecture\n",
    "\n",
    "\n",
    "\n",
    "\n",
    "\n",
    "\n",
    "\n",
    "\n",
    "\n",
    "\n",
    "\n",
    "\n"
   ]
  },
  {
   "cell_type": "code",
   "execution_count": 22,
   "metadata": {
    "hideCode": false,
    "hidePrompt": false
   },
   "outputs": [],
   "source": [
    "#! pip install neurokit2 plotly joblib"
   ]
  },
  {
   "cell_type": "code",
   "execution_count": null,
   "metadata": {},
   "outputs": [],
   "source": [
    "import helpers as hp\n",
    "import pandas as pd\n",
    "import numpy as np\n",
    "import neurokit2 as nk\n",
    "import matplotlib.pyplot as plt\n",
    "\n",
    "# Set global figure size\n",
    "plt.rcParams[\"figure.figsize\"] = (12, 4)\n",
    "\n",
    "srate = 25 # EmotiBit PPG sampling rate\n",
    "\n",
    "path = 'example_data'\n",
    "ppg_data = hp.load_emotibit_ppg(path)\n",
    "ppg_data.head()\n"
   ]
  },
  {
   "cell_type": "code",
   "execution_count": null,
   "metadata": {},
   "outputs": [],
   "source": [
    "# plot all raw data with neurokit2\n",
    "nk.signal_plot(ppg_data[['PPG Infrared','PPG Red']])\n",
    "plt.title('Raw PGG signals')"
   ]
  },
  {
   "cell_type": "code",
   "execution_count": 25,
   "metadata": {},
   "outputs": [],
   "source": [
    "# get raw values of red and infrared data\n",
    "red_raw = ppg_data['PPG Red'].values\n",
    "ir_raw =  ppg_data['PPG Infrared'].values"
   ]
  },
  {
   "cell_type": "code",
   "execution_count": null,
   "metadata": {},
   "outputs": [],
   "source": [
    "# calculate clean signal which are centered around zero\n",
    "red_clean = nk.ppg_clean(red_raw, sampling_rate=srate)\n",
    "ir_clean = nk.ppg_clean(ir_raw, sampling_rate=srate)\n",
    "\n",
    "nk.signal_plot([ir_clean, red_clean], sampling_rate=srate, labels=['Infrared Clean', 'Red Clean'])"
   ]
  },
  {
   "cell_type": "code",
   "execution_count": null,
   "metadata": {},
   "outputs": [],
   "source": [
    "# Use formula for R\n",
    "AC_red = np.std(red_clean)\n",
    "DC_red = np.nanmean(red_raw)\n",
    "\n",
    "AC_ir = np.std(ir_clean)\n",
    "DC_ir = np.nanmean(ir_raw)\n",
    "\n",
    "R = (AC_red / DC_red) / (AC_ir / DC_ir) \n",
    "print(f\"R value: {R}\")"
   ]
  },
  {
   "cell_type": "code",
   "execution_count": null,
   "metadata": {},
   "outputs": [],
   "source": [
    "# Calculate from empirical formulas\n",
    "print(f\"Formula 1: 110 - 25*R = {110 - 25*R:.1f}%\")\n",
    "print(f\"Formula 2: 100 - 23.3*(R-0.4) = {100 - 23.3*(R-0.4):.1f}%\")\n"
   ]
  }
 ],
 "metadata": {
  "hide_code_all_hidden": false,
  "kernelspec": {
   "display_name": "py311",
   "language": "python",
   "name": "python3"
  },
  "language_info": {
   "codemirror_mode": {
    "name": "ipython",
    "version": 3
   },
   "file_extension": ".py",
   "mimetype": "text/x-python",
   "name": "python",
   "nbconvert_exporter": "python",
   "pygments_lexer": "ipython3",
   "version": "3.11.8"
  }
 },
 "nbformat": 4,
 "nbformat_minor": 2
}
